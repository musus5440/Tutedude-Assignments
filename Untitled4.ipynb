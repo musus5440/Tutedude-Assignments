{
  "nbformat": 4,
  "nbformat_minor": 0,
  "metadata": {
    "colab": {
      "provenance": [],
      "authorship_tag": "ABX9TyO/EbTlOx65UZUeGYB5n2XW",
      "include_colab_link": true
    },
    "kernelspec": {
      "name": "python3",
      "display_name": "Python 3"
    },
    "language_info": {
      "name": "python"
    }
  },
  "cells": [
    {
      "cell_type": "markdown",
      "metadata": {
        "id": "view-in-github",
        "colab_type": "text"
      },
      "source": [
        "<a href=\"https://colab.research.google.com/github/musus5440/Tutedude-Assignments/blob/main/Untitled4.ipynb\" target=\"_parent\"><img src=\"https://colab.research.google.com/assets/colab-badge.svg\" alt=\"Open In Colab\"/></a>"
      ]
    },
    {
      "cell_type": "code",
      "execution_count": 9,
      "metadata": {
        "colab": {
          "base_uri": "https://localhost:8080/"
        },
        "id": "NpFapm7xeZ8d",
        "outputId": "ac6642c3-4fe7-4ca1-907b-f0b5a276696a"
      },
      "outputs": [
        {
          "output_type": "stream",
          "name": "stdout",
          "text": [
            "Enter a number: 5\n",
            "Factorial of 5 is: 120. \n",
            "Enter a number: 45\n",
            "Square root: 6.708203932499369 \n",
            "Logarithm: 3.8066624897703196\n",
            "Sine: 0.8509035245341184\n"
          ]
        }
      ],
      "source": [
        "#Task 1: Calculate Factorial Using a Function:\n",
        "num = int(input(\"Enter a number: \"))\n",
        "def factorial(n):\n",
        "  if n < 2:\n",
        "    return 1\n",
        "  else:\n",
        "    return n * (factorial (n-1))\n",
        "\n",
        "result = factorial(num)\n",
        "print(f\"Factorial of {num} is: {result}. \")\n",
        "\n",
        "#Task 1: Calculate Factorial Using a Function:\n",
        "import math\n",
        "num = float(input(\"Enter a number: \"))\n",
        "square_root = math.sqrt(num)\n",
        "natural_log = math.log(num)\n",
        "sine_value = math.sin(num)\n",
        "print(f\"Square root: {square_root} \")\n",
        "print(f\"Logarithm: {natural_log}\")\n",
        "print(f\"Sine: {sine_value}\")\n"
      ]
    }
  ]
}